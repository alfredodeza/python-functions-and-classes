{
 "cells": [
  {
   "cell_type": "markdown",
   "metadata": {},
   "source": [
    "\n",
    "# Using a constructor\n",
    "\n",
    "You already saw how class attributes can be tricky to work with. It is fine to use them, but they have potential to cause problems because they change state. A constructor can help with many of those problems, and allows you to set particulars about the object when creating it."
   ]
  },
  {
   "cell_type": "code",
   "execution_count": null,
   "metadata": {},
   "outputs": [],
   "source": [
    "# the constructor in Python is with the special method called __init__\n",
    "\n",
    "class Dog:\n",
    "\n",
    "    def __init__(self):\n",
    "        self.is_animal = True"
   ]
  },
  {
   "cell_type": "markdown",
   "metadata": {},
   "source": [
    "`self` was used again with these! not only `__init__` is a special method but it is using self for its variables. "
   ]
  },
  {
   "cell_type": "code",
   "execution_count": null,
   "metadata": {},
   "outputs": [],
   "source": [
    "# how is this different from a class attribute? These instance variables are only for the object and you can't affect other objects\n",
    "rufus = Dog()\n",
    "sparky = Dog()\n",
    "\n",
    "print(\"Rufus is an animal?\", rufus.is_animal)\n",
    "print(\"Sparky is an animal?\", sparky.is_animal)"
   ]
  },
  {
   "cell_type": "code",
   "execution_count": null,
   "metadata": {},
   "outputs": [],
   "source": [
    "rufus.is_animal = False\n",
    "print(\"Rufus is an animal?\", rufus.is_animal)\n",
    "print(\"Sparky is an animal?\", sparky.is_animal)"
   ]
  },
  {
   "cell_type": "markdown",
   "metadata": {},
   "source": [
    "## State\n",
    "Once an instance of a class (which creates an object) is created, that object has state. `self` is what allows these variables to refer to each other. But just like functions you can set them from the beginning."
   ]
  },
  {
   "cell_type": "code",
   "execution_count": null,
   "metadata": {},
   "outputs": [],
   "source": [
    "# pass arguments and keyword arguments to a class\n",
    "\n",
    "class Animal:\n",
    "\n",
    "    def __init__(self, name, legs=4, barks=True):\n",
    "        self.name = name\n",
    "        self.legs = legs\n",
    "        self.barks = barks\n",
    "        \n",
    "    # there is a bug in here!\n",
    "    def info(self):\n",
    "        print(f\"This is an animal named {name}, has {legs} legs\")\n",
    "        if barks:\n",
    "            print(\"And this one barks!\")\n",
    "        else:\n",
    "            print(\"It doesn't bark at all\")"
   ]
  },
  {
   "cell_type": "code",
   "execution_count": null,
   "metadata": {},
   "outputs": [],
   "source": [
    "bunny = Animal(\"buster\", barks=False)\n",
    "bunny.info()\n",
    "# if the bug is not fixed in the class, this will cause a NameError"
   ]
  },
  {
   "cell_type": "code",
   "execution_count": null,
   "metadata": {},
   "outputs": [],
   "source": [
    "# it is still possible to try to reach to these variables from outside of the class as well\n",
    "print(bunny.name)\n",
    "print(bunny.legs)\n",
    "print(bunny.barks)"
   ]
  }
 ],
 "metadata": {
  "kernelspec": {
   "display_name": "Python 3.8.9 64-bit",
   "language": "python",
   "name": "python3"
  },
  "language_info": {
   "codemirror_mode": {
    "name": "ipython",
    "version": 3
   },
   "file_extension": ".py",
   "mimetype": "text/x-python",
   "name": "python",
   "nbconvert_exporter": "python",
   "pygments_lexer": "ipython3",
   "version": "3.8.9"
  },
  "orig_nbformat": 4,
  "vscode": {
   "interpreter": {
    "hash": "31f2aee4e71d21fbe5cf8b01ff0e069b9275f58929596ceb00d14d90e3e16cd6"
   }
  }
 },
 "nbformat": 4,
 "nbformat_minor": 2
}
