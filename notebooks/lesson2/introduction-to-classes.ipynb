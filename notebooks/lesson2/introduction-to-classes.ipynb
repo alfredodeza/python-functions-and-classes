{
 "cells": [
  {
   "cell_type": "markdown",
   "metadata": {},
   "source": [
    "# Introduction to Classes\n",
    "\n",
    "In Python, classes represents one of the most important type of constructs you'll work with alongside functions. In most cases, classes are very similar to functions in how they are created but they do have some difference.\n",
    "\n",
    "In this notebook you'll see how to create classes and a brief overview of their structure."
   ]
  },
  {
   "cell_type": "code",
   "execution_count": 3,
   "metadata": {},
   "outputs": [],
   "source": [
    "# the most basic class\n",
    "\n",
    "class Basic:\n",
    "    pass\n",
    "\n",
    "basic = Basic()"
   ]
  },
  {
   "cell_type": "code",
   "execution_count": null,
   "metadata": {},
   "outputs": [],
   "source": [
    "# use dir() to find about what is available in a class\n",
    "dir(basic)"
   ]
  },
  {
   "cell_type": "code",
   "execution_count": null,
   "metadata": {},
   "outputs": [],
   "source": [
    "# in the past, Python classes could have this odd \"object\" in them\n",
    "\n",
    "class Basic(object):\n",
    "    pass\n",
    "\n",
    "# this is not common or needed in Python anymore"
   ]
  },
  {
   "cell_type": "code",
   "execution_count": 8,
   "metadata": {},
   "outputs": [],
   "source": [
    "# classes in general are good when grouping code and behavior that can be reused\n",
    "# That type of grouping and behavior is not possible with functions for example\n",
    "\n",
    "class Dog:\n",
    "    is_animal = True\n",
    "\n",
    "    def bark():\n",
    "        print(\"woof!\")\n",
    "\n",
    "dog = Dog()"
   ]
  },
  {
   "cell_type": "code",
   "execution_count": 9,
   "metadata": {},
   "outputs": [
    {
     "ename": "TypeError",
     "evalue": "bark() takes 0 positional arguments but 1 was given",
     "output_type": "error",
     "traceback": [
      "\u001b[0;31m---------------------------------------------------------------------------\u001b[0m",
      "\u001b[0;31mTypeError\u001b[0m                                 Traceback (most recent call last)",
      "\u001b[1;32m/Users/alfredodeza/code/python-bootcamp/python-functions-and-classes/notebooks/lesson2/introduction-to-classes.ipynb Cell 6'\u001b[0m in \u001b[0;36m<cell line: 2>\u001b[0;34m()\u001b[0m\n\u001b[1;32m      <a href='vscode-notebook-cell:/Users/alfredodeza/code/python-bootcamp/python-functions-and-classes/notebooks/lesson2/introduction-to-classes.ipynb#ch0000009?line=0'>1</a>\u001b[0m \u001b[39m# with the Dog() class instantiated and ready to be used you can interact with its parts\u001b[39;00m\n\u001b[0;32m----> <a href='vscode-notebook-cell:/Users/alfredodeza/code/python-bootcamp/python-functions-and-classes/notebooks/lesson2/introduction-to-classes.ipynb#ch0000009?line=1'>2</a>\u001b[0m dog\u001b[39m.\u001b[39;49mbark()\n\u001b[1;32m      <a href='vscode-notebook-cell:/Users/alfredodeza/code/python-bootcamp/python-functions-and-classes/notebooks/lesson2/introduction-to-classes.ipynb#ch0000009?line=2'>3</a>\u001b[0m dog\u001b[39m.\u001b[39mis_animal\n",
      "\u001b[0;31mTypeError\u001b[0m: bark() takes 0 positional arguments but 1 was given"
     ]
    }
   ],
   "source": [
    "# with the Dog() class instantiated and ready to be used you can interact with its parts\n",
    "dog.bark()\n",
    "dog.is_animal"
   ]
  },
  {
   "cell_type": "code",
   "execution_count": 4,
   "metadata": {},
   "outputs": [
    {
     "data": {
      "text/plain": [
       "False"
      ]
     },
     "execution_count": 4,
     "metadata": {},
     "output_type": "execute_result"
    }
   ],
   "source": [
    "# you can create as many instances of this class as you need\n",
    "rufus = Dog()\n",
    "rufus.bark()\n"
   ]
  },
  {
   "cell_type": "code",
   "execution_count": 6,
   "metadata": {},
   "outputs": [
    {
     "name": "stdout",
     "output_type": "stream",
     "text": [
      "Is rufus an animal? False\n",
      "Is dog an animal? False\n"
     ]
    }
   ],
   "source": [
    "# watch out for class attributes that can change \"state\" from every instance and objects\n",
    "Dog.is_animal = False\n",
    "print(\"Is rufus an animal?\", rufus.is_animal)\n",
    "print(\"Is dog an animal?\", dog.is_animal)"
   ]
  },
  {
   "cell_type": "code",
   "execution_count": 7,
   "metadata": {},
   "outputs": [
    {
     "data": {
      "text/plain": [
       "False"
      ]
     },
     "execution_count": 7,
     "metadata": {},
     "output_type": "execute_result"
    }
   ],
   "source": [
    "# that change will also affect any future object\n",
    "sparky = Dog()\n",
    "sparky.is_animal"
   ]
  },
  {
   "cell_type": "markdown",
   "metadata": {},
   "source": [
    "## What is this `self` thing?\n",
    "\n",
    "In methods and classes, \"self\" is a _convention_ (not mandatory!) so that you can refer to them internally in the class. It is tricky if you've never used it.\n",
    "\n",
    "You will see it as an argument of methods, like in the `Dog` class:\n",
    "\n",
    "```python\n",
    "class Dog:\n",
    "    def bark(self):\n",
    "        ...\n",
    "```\n"
   ]
  },
  {
   "cell_type": "code",
   "execution_count": 10,
   "metadata": {},
   "outputs": [
    {
     "ename": "TypeError",
     "evalue": "walks() takes 0 positional arguments but 1 was given",
     "output_type": "error",
     "traceback": [
      "\u001b[0;31m---------------------------------------------------------------------------\u001b[0m",
      "\u001b[0;31mTypeError\u001b[0m                                 Traceback (most recent call last)",
      "\u001b[1;32m/Users/alfredodeza/code/python-bootcamp/python-functions-and-classes/notebooks/lesson2/introduction-to-classes.ipynb Cell 11'\u001b[0m in \u001b[0;36m<cell line: 10>\u001b[0;34m()\u001b[0m\n\u001b[1;32m      <a href='vscode-notebook-cell:/Users/alfredodeza/code/python-bootcamp/python-functions-and-classes/notebooks/lesson2/introduction-to-classes.ipynb#ch0000012?line=7'>8</a>\u001b[0m cat \u001b[39m=\u001b[39m Cat()\n\u001b[1;32m      <a href='vscode-notebook-cell:/Users/alfredodeza/code/python-bootcamp/python-functions-and-classes/notebooks/lesson2/introduction-to-classes.ipynb#ch0000012?line=8'>9</a>\u001b[0m \u001b[39m# this will cause an error\u001b[39;00m\n\u001b[0;32m---> <a href='vscode-notebook-cell:/Users/alfredodeza/code/python-bootcamp/python-functions-and-classes/notebooks/lesson2/introduction-to-classes.ipynb#ch0000012?line=9'>10</a>\u001b[0m cat\u001b[39m.\u001b[39;49mwalks()\n",
      "\u001b[0;31mTypeError\u001b[0m: walks() takes 0 positional arguments but 1 was given"
     ]
    }
   ],
   "source": [
    "# you must create methods with `self` always. This is what happens if you don'time\n",
    "\n",
    "class Cat:\n",
    "\n",
    "    def walks():\n",
    "        print(\"this cat starts to walk\")\n",
    "\n",
    "cat = Cat()\n",
    "# this will cause an error\n",
    "cat.walks()"
   ]
  }
 ],
 "metadata": {
  "kernelspec": {
   "display_name": "Python 3.8.9 64-bit",
   "language": "python",
   "name": "python3"
  },
  "language_info": {
   "codemirror_mode": {
    "name": "ipython",
    "version": 3
   },
   "file_extension": ".py",
   "mimetype": "text/x-python",
   "name": "python",
   "nbconvert_exporter": "python",
   "pygments_lexer": "ipython3",
   "version": "3.8.9"
  },
  "orig_nbformat": 4,
  "vscode": {
   "interpreter": {
    "hash": "31f2aee4e71d21fbe5cf8b01ff0e069b9275f58929596ceb00d14d90e3e16cd6"
   }
  }
 },
 "nbformat": 4,
 "nbformat_minor": 2
}
