{
 "cells": [
  {
   "cell_type": "markdown",
   "metadata": {},
   "source": [
    "## Class inheritance\n",
    "\n",
    "You might come across inheritance when working with Python. What it means is that a base (or parent) class can be a scaffold for a another (child) class. It helps when trying to have many methods and many basic behavior and avoid boilerplate code.\n",
    "\n",
    "It is useful when you need to create many classes that share the same behavior."
   ]
  },
  {
   "cell_type": "code",
   "execution_count": null,
   "metadata": {},
   "outputs": [],
   "source": [
    "# create a base class for house pets\n",
    "\n",
    "class Pet:\n",
    "\n",
    "    def eat(self):\n",
    "        self.food = self.food - self.appetite\n",
    "        print(f\"Ate {self.appetite} of food, have {self.food} left\")"
   ]
  },
  {
   "cell_type": "code",
   "execution_count": null,
   "metadata": {},
   "outputs": [],
   "source": [
    "# create to child classes for other house pets like cat and dog and parakeet\n",
    "\n",
    "class Parakeet(Pet):\n",
    "\n",
    "    def __init__(self):\n",
    "        self.food = 100\n",
    "        self.appetite = 1\n",
    "\n",
    "class Dog(Pet):\n",
    "\n",
    "    def __init__(self):\n",
    "        self.food = 400\n",
    "        self.appetite = 7\n",
    "\n",
    "perry = Parakeet()\n",
    "rufus = Dog()\n"
   ]
  },
  {
   "cell_type": "code",
   "execution_count": null,
   "metadata": {},
   "outputs": [],
   "source": [
    "perry.eat()\n",
    "rufus.eat()"
   ]
  },
  {
   "cell_type": "code",
   "execution_count": null,
   "metadata": {},
   "outputs": [],
   "source": [
    "# demonstrate how other classes have methods that automatically appear\n",
    "for attribute in dir(rufus):\n",
    "    if attribute.startswith('_'):\n",
    "        continue\n",
    "    print(attribute)"
   ]
  },
  {
   "cell_type": "code",
   "execution_count": null,
   "metadata": {},
   "outputs": [],
   "source": [
    "# use unittest.TestCase as a real world example\n",
    "import unittest\n",
    "\n",
    "class Testing(unittest.TestCase):\n",
    "    pass\n",
    "\n",
    "tests = Testing()"
   ]
  },
  {
   "cell_type": "code",
   "execution_count": null,
   "metadata": {},
   "outputs": [],
   "source": [
    "for attribute in dir(tests):\n",
    "    if attribute.startswith('_'):\n",
    "        continue\n",
    "    print(attribute)"
   ]
  }
 ],
 "metadata": {
  "kernelspec": {
   "display_name": "Python 3.8.9 64-bit",
   "language": "python",
   "name": "python3"
  },
  "language_info": {
   "codemirror_mode": {
    "name": "ipython",
    "version": 3
   },
   "file_extension": ".py",
   "mimetype": "text/x-python",
   "name": "python",
   "nbconvert_exporter": "python",
   "pygments_lexer": "ipython3",
   "version": "3.8.9"
  },
  "orig_nbformat": 4,
  "vscode": {
   "interpreter": {
    "hash": "31f2aee4e71d21fbe5cf8b01ff0e069b9275f58929596ceb00d14d90e3e16cd6"
   }
  }
 },
 "nbformat": 4,
 "nbformat_minor": 2
}
