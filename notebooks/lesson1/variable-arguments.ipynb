{
 "cells": [
  {
   "cell_type": "markdown",
   "metadata": {},
   "source": [
    "## Variable arguments and keyword arguments \n",
    "\n",
    "These types of arguments are useful when you don't know how many you will receive. It is supported for both keyword arguments and regular arguments. "
   ]
  },
  {
   "cell_type": "markdown",
   "metadata": {},
   "source": [
    "### Variable arguments\n",
    "Also called _var args_. Are arguments that do not have any defaults"
   ]
  },
  {
   "cell_type": "code",
   "execution_count": null,
   "metadata": {},
   "outputs": [],
   "source": [
    "# this function can take 0 or more arguments\n",
    "\n",
    "def family_members(*args):\n",
    "    for name in args:\n",
    "        print(name)\n",
    "\n",
    "family_members(\"Lucy\", \"Matt\", \"Bob\")"
   ]
  },
  {
   "cell_type": "code",
   "execution_count": 2,
   "metadata": {},
   "outputs": [],
   "source": [
    "# it can also be called with no arguments at all making it flexible\n",
    "family_members()"
   ]
  },
  {
   "cell_type": "code",
   "execution_count": null,
   "metadata": {},
   "outputs": [],
   "source": [
    "# there is no need to call it *args or *a (although common)\n",
    "\n",
    "def family_members(*names):\n",
    "    for name in names:\n",
    "        print(name)"
   ]
  },
  {
   "cell_type": "markdown",
   "metadata": {},
   "source": [
    "### Variable keyword arguments\n",
    "These are arguments that are mapped to a value (key and value, like a dictionary). \n",
    "The premise of how this works is the same as variable arguments, and the syntax is slightly different."
   ]
  },
  {
   "cell_type": "code",
   "execution_count": 1,
   "metadata": {},
   "outputs": [
    {
     "name": "stdout",
     "output_type": "stream",
     "text": [
      "speed --> slow\n",
      "active --> False\n",
      "weight --> 210\n"
     ]
    }
   ],
   "source": [
    "# define a function that takes 0 or more keyword arguments\n",
    "def stats(**kwargs):\n",
    "    # kwargs is now a dictionary\n",
    "    for key, value in kwargs.items():\n",
    "        print(key, \"-->\", value)\n",
    "\n",
    "stats(speed=\"slow\", active=False, weight=210)"
   ]
  },
  {
   "cell_type": "code",
   "execution_count": 2,
   "metadata": {},
   "outputs": [
    {
     "name": "stdout",
     "output_type": "stream",
     "text": [
      "Result is None\n"
     ]
    }
   ],
   "source": [
    "# because it's variable, it means that we can pass 0 items\n",
    "result = stats()\n",
    "print(\"Result is\", result)"
   ]
  }
 ],
 "metadata": {
  "kernelspec": {
   "display_name": "Python 3.8.9 64-bit",
   "language": "python",
   "name": "python3"
  },
  "language_info": {
   "codemirror_mode": {
    "name": "ipython",
    "version": 3
   },
   "file_extension": ".py",
   "mimetype": "text/x-python",
   "name": "python",
   "nbconvert_exporter": "python",
   "pygments_lexer": "ipython3",
   "version": "3.8.9"
  },
  "orig_nbformat": 4,
  "vscode": {
   "interpreter": {
    "hash": "31f2aee4e71d21fbe5cf8b01ff0e069b9275f58929596ceb00d14d90e3e16cd6"
   }
  }
 },
 "nbformat": 4,
 "nbformat_minor": 2
}
