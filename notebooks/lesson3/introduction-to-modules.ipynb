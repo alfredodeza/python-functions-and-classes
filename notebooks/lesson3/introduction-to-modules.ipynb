{
 "cells": [
  {
   "cell_type": "markdown",
   "metadata": {},
   "source": [
    "# Introduction to Python modules\n",
    "\n",
    "Python modules are `.py` files where one can put functions, classes, and any other valid Python code. This notebook will cover why modules are useful and when to use them."
   ]
  },
  {
   "cell_type": "markdown",
   "metadata": {},
   "source": [
    "It is helpful to organize code. Spot categories or groupings if working with a large file. This is how a command-line tool might look like with modules:\n",
    "\n",
    "```\n",
    "cli\n",
    "├── __init__.py\n",
    "├── engine.py\n",
    "├── exceptions.py\n",
    "├── main.py\n",
    "├── network.py\n",
    "├── parsing.py\n",
    "└── utils.py\n",
    "```\n",
    "\n",
    "Avoid the temptation to put everything in a single file. Imagine having one drawer for all your clothing. It doesn't work."
   ]
  },
  {
   "cell_type": "code",
   "execution_count": null,
   "metadata": {},
   "outputs": [],
   "source": [
    "# all you need to create a module is to create a Python file so that you can import it\n",
    "# for example, this is the `os` module in Python (actually os.py)\n",
    "import os\n",
    "\n",
    "dir(os)\n"
   ]
  }
 ],
 "metadata": {
  "kernelspec": {
   "display_name": "Python 3.8.9 64-bit",
   "language": "python",
   "name": "python3"
  },
  "language_info": {
   "codemirror_mode": {
    "name": "ipython",
    "version": 3
   },
   "file_extension": ".py",
   "mimetype": "text/x-python",
   "name": "python",
   "nbconvert_exporter": "python",
   "pygments_lexer": "ipython3",
   "version": "3.8.9"
  },
  "orig_nbformat": 4,
  "vscode": {
   "interpreter": {
    "hash": "31f2aee4e71d21fbe5cf8b01ff0e069b9275f58929596ceb00d14d90e3e16cd6"
   }
  }
 },
 "nbformat": 4,
 "nbformat_minor": 2
}
